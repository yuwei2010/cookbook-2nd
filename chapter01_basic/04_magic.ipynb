{
 "cells": [
  {
   "cell_type": "code",
   "execution_count": 3,
   "metadata": {},
   "outputs": [],
   "source": [
    "%load_ext autoreload\n",
    "%autoreload 2"
   ]
  },
  {
   "cell_type": "code",
   "execution_count": 6,
   "metadata": {},
   "outputs": [],
   "source": [
    "from IPython.core.magic import (register_line_magic,\n",
    "                                register_cell_magic)"
   ]
  },
  {
   "cell_type": "code",
   "execution_count": null,
   "metadata": {},
   "outputs": [],
   "source": [
    "from IPython.display import display, Markdown"
   ]
  },
  {
   "cell_type": "code",
   "execution_count": null,
   "metadata": {},
   "outputs": [],
   "source": [
    "@register_line_magic\n",
    "def hello(line):\n",
    "    if line == 'french':\n",
    "        print(\"Salut tout le monde!\")\n",
    "    else:\n",
    "        print(\"Hello world!\")"
   ]
  },
  {
   "cell_type": "code",
   "execution_count": null,
   "metadata": {},
   "outputs": [
    {
     "name": "stdout",
     "output_type": "stream",
     "text": [
      "Salut tout le monde!\n"
     ]
    }
   ],
   "source": [
    "%hello french"
   ]
  },
  {
   "cell_type": "code",
   "execution_count": null,
   "metadata": {},
   "outputs": [],
   "source": [
    "import pandas as pd\n",
    "from io import StringIO\n",
    "\n",
    "@register_cell_magic\n",
    "def csv(line, cell):\n",
    "    # We create a string buffer containing the\n",
    "    # contents of the cell.\n",
    "    sio = StringIO(cell)\n",
    "    # We use Pandas' read_csv function to parse\n",
    "    # the CSV string.\n",
    "    return pd.read_csv(sio)"
   ]
  },
  {
   "cell_type": "code",
   "execution_count": null,
   "metadata": {},
   "outputs": [
    {
     "data": {
      "text/html": [
       "<div>\n",
       "<style scoped>\n",
       "    .dataframe tbody tr th:only-of-type {\n",
       "        vertical-align: middle;\n",
       "    }\n",
       "\n",
       "    .dataframe tbody tr th {\n",
       "        vertical-align: top;\n",
       "    }\n",
       "\n",
       "    .dataframe thead th {\n",
       "        text-align: right;\n",
       "    }\n",
       "</style>\n",
       "<table border=\"1\" class=\"dataframe\">\n",
       "  <thead>\n",
       "    <tr style=\"text-align: right;\">\n",
       "      <th></th>\n",
       "      <th>col1</th>\n",
       "      <th>col2</th>\n",
       "      <th>col3</th>\n",
       "    </tr>\n",
       "  </thead>\n",
       "  <tbody>\n",
       "    <tr>\n",
       "      <th>0</th>\n",
       "      <td>0</td>\n",
       "      <td>1</td>\n",
       "      <td>2</td>\n",
       "    </tr>\n",
       "    <tr>\n",
       "      <th>1</th>\n",
       "      <td>3</td>\n",
       "      <td>4</td>\n",
       "      <td>5</td>\n",
       "    </tr>\n",
       "    <tr>\n",
       "      <th>2</th>\n",
       "      <td>7</td>\n",
       "      <td>8</td>\n",
       "      <td>9</td>\n",
       "    </tr>\n",
       "  </tbody>\n",
       "</table>\n",
       "</div>"
      ],
      "text/plain": [
       "   col1  col2  col3\n",
       "0     0     1     2\n",
       "1     3     4     5\n",
       "2     7     8     9"
      ]
     },
     "execution_count": 10,
     "metadata": {},
     "output_type": "execute_result"
    }
   ],
   "source": [
    "%%csv\n",
    "col1,col2,col3\n",
    "0,1,2\n",
    "3,4,5\n",
    "7,8,9"
   ]
  },
  {
   "cell_type": "code",
   "execution_count": null,
   "metadata": {},
   "outputs": [
    {
     "data": {
      "text/html": [
       "<div>\n",
       "<style scoped>\n",
       "    .dataframe tbody tr th:only-of-type {\n",
       "        vertical-align: middle;\n",
       "    }\n",
       "\n",
       "    .dataframe tbody tr th {\n",
       "        vertical-align: top;\n",
       "    }\n",
       "\n",
       "    .dataframe thead th {\n",
       "        text-align: right;\n",
       "    }\n",
       "</style>\n",
       "<table border=\"1\" class=\"dataframe\">\n",
       "  <thead>\n",
       "    <tr style=\"text-align: right;\">\n",
       "      <th></th>\n",
       "      <th>col1</th>\n",
       "      <th>col2</th>\n",
       "      <th>col3</th>\n",
       "    </tr>\n",
       "  </thead>\n",
       "  <tbody>\n",
       "    <tr>\n",
       "      <th>count</th>\n",
       "      <td>3.000000</td>\n",
       "      <td>3.000000</td>\n",
       "      <td>3.000000</td>\n",
       "    </tr>\n",
       "    <tr>\n",
       "      <th>mean</th>\n",
       "      <td>3.333333</td>\n",
       "      <td>4.333333</td>\n",
       "      <td>5.333333</td>\n",
       "    </tr>\n",
       "    <tr>\n",
       "      <th>std</th>\n",
       "      <td>3.511885</td>\n",
       "      <td>3.511885</td>\n",
       "      <td>3.511885</td>\n",
       "    </tr>\n",
       "    <tr>\n",
       "      <th>min</th>\n",
       "      <td>0.000000</td>\n",
       "      <td>1.000000</td>\n",
       "      <td>2.000000</td>\n",
       "    </tr>\n",
       "    <tr>\n",
       "      <th>25%</th>\n",
       "      <td>1.500000</td>\n",
       "      <td>2.500000</td>\n",
       "      <td>3.500000</td>\n",
       "    </tr>\n",
       "    <tr>\n",
       "      <th>50%</th>\n",
       "      <td>3.000000</td>\n",
       "      <td>4.000000</td>\n",
       "      <td>5.000000</td>\n",
       "    </tr>\n",
       "    <tr>\n",
       "      <th>75%</th>\n",
       "      <td>5.000000</td>\n",
       "      <td>6.000000</td>\n",
       "      <td>7.000000</td>\n",
       "    </tr>\n",
       "    <tr>\n",
       "      <th>max</th>\n",
       "      <td>7.000000</td>\n",
       "      <td>8.000000</td>\n",
       "      <td>9.000000</td>\n",
       "    </tr>\n",
       "  </tbody>\n",
       "</table>\n",
       "</div>"
      ],
      "text/plain": [
       "           col1      col2      col3\n",
       "count  3.000000  3.000000  3.000000\n",
       "mean   3.333333  4.333333  5.333333\n",
       "std    3.511885  3.511885  3.511885\n",
       "min    0.000000  1.000000  2.000000\n",
       "25%    1.500000  2.500000  3.500000\n",
       "50%    3.000000  4.000000  5.000000\n",
       "75%    5.000000  6.000000  7.000000\n",
       "max    7.000000  8.000000  9.000000"
      ]
     },
     "execution_count": 11,
     "metadata": {},
     "output_type": "execute_result"
    }
   ],
   "source": [
    "df = _\n",
    "df.describe()"
   ]
  },
  {
   "cell_type": "code",
   "execution_count": null,
   "metadata": {},
   "outputs": [],
   "source": [
    "from datasurfer.lib_ipy import load_rag\n",
    "from datasurfer.lib_llm.llm_rag import RAGObject"
   ]
  },
  {
   "cell_type": "code",
   "execution_count": null,
   "metadata": {},
   "outputs": [],
   "source": [
    "%query \"what is the RAGObject class?\""
   ]
  },
  {
   "cell_type": "code",
   "execution_count": null,
   "metadata": {},
   "outputs": [
    {
     "ename": "NameError",
     "evalue": "name 'ipython' is not defined",
     "output_type": "error",
     "traceback": [
      "\u001b[1;31m---------------------------------------------------------------------------\u001b[0m",
      "\u001b[1;31mNameError\u001b[0m                                 Traceback (most recent call last)",
      "Cell \u001b[1;32mIn[2], line 1\u001b[0m\n\u001b[1;32m----> 1\u001b[0m ipython\u001b[38;5;241m.\u001b[39mregister_magic_function\n",
      "\u001b[1;31mNameError\u001b[0m: name 'ipython' is not defined"
     ]
    }
   ],
   "source": [
    "ipython.register_magic_function"
   ]
  },
  {
   "cell_type": "code",
   "execution_count": null,
   "metadata": {},
   "outputs": [],
   "source": [
    "ragdb = RAGObject()"
   ]
  },
  {
   "cell_type": "code",
   "execution_count": null,
   "metadata": {},
   "outputs": [
    {
     "ename": "KeyError",
     "evalue": "'ragdb'",
     "output_type": "error",
     "traceback": [
      "\u001b[1;31m---------------------------------------------------------------------------\u001b[0m",
      "\u001b[1;31mKeyError\u001b[0m                                  Traceback (most recent call last)",
      "Cell \u001b[1;32mIn[4], line 1\u001b[0m\n\u001b[1;32m----> 1\u001b[0m \u001b[38;5;28mglobals\u001b[39m()[\u001b[38;5;124m'\u001b[39m\u001b[38;5;124mragdb\u001b[39m\u001b[38;5;124m'\u001b[39m]\n",
      "\u001b[1;31mKeyError\u001b[0m: 'ragdb'"
     ]
    }
   ],
   "source": [
    "globals()['ragdb']"
   ]
  },
  {
   "cell_type": "code",
   "execution_count": null,
   "metadata": {},
   "outputs": [
    {
     "name": "stdout",
     "output_type": "stream",
     "text": [
      "Overwriting csvmagic.py\n"
     ]
    }
   ],
   "source": [
    "%%writefile csvmagic.py\n",
    "import pandas as pd\n",
    "from io import StringIO\n",
    "\n",
    "def csv(line, cell):\n",
    "    sio = StringIO(cell)\n",
    "    return pd.read_csv(sio)\n",
    "\n",
    "def load_ipython_extension(ipython):\n",
    "    \"\"\"This function is called when the extension is\n",
    "    loaded. It accepts an IPython InteractiveShell\n",
    "    instance. We can register the magic with the\n",
    "    `register_magic_function` method of the shell\n",
    "    instance.\"\"\"\n",
    "    ipython.register_magic_function(csv, 'cell')"
   ]
  },
  {
   "cell_type": "code",
   "execution_count": null,
   "metadata": {},
   "outputs": [],
   "source": [
    "%reload_ext csvmagic"
   ]
  },
  {
   "cell_type": "code",
   "execution_count": null,
   "metadata": {},
   "outputs": [
    {
     "data": {
      "text/html": [
       "<div>\n",
       "<style scoped>\n",
       "    .dataframe tbody tr th:only-of-type {\n",
       "        vertical-align: middle;\n",
       "    }\n",
       "\n",
       "    .dataframe tbody tr th {\n",
       "        vertical-align: top;\n",
       "    }\n",
       "\n",
       "    .dataframe thead th {\n",
       "        text-align: right;\n",
       "    }\n",
       "</style>\n",
       "<table border=\"1\" class=\"dataframe\">\n",
       "  <thead>\n",
       "    <tr style=\"text-align: right;\">\n",
       "      <th></th>\n",
       "      <th>col1</th>\n",
       "      <th>col2</th>\n",
       "      <th>col3</th>\n",
       "    </tr>\n",
       "  </thead>\n",
       "  <tbody>\n",
       "    <tr>\n",
       "      <th>0</th>\n",
       "      <td>0</td>\n",
       "      <td>1</td>\n",
       "      <td>2</td>\n",
       "    </tr>\n",
       "    <tr>\n",
       "      <th>1</th>\n",
       "      <td>3</td>\n",
       "      <td>4</td>\n",
       "      <td>5</td>\n",
       "    </tr>\n",
       "    <tr>\n",
       "      <th>2</th>\n",
       "      <td>7</td>\n",
       "      <td>8</td>\n",
       "      <td>9</td>\n",
       "    </tr>\n",
       "  </tbody>\n",
       "</table>\n",
       "</div>"
      ],
      "text/plain": [
       "   col1  col2  col3\n",
       "0     0     1     2\n",
       "1     3     4     5\n",
       "2     7     8     9"
      ]
     },
     "execution_count": 15,
     "metadata": {},
     "output_type": "execute_result"
    }
   ],
   "source": [
    "%%csv\n",
    "col1,col2,col3\n",
    "0,1,2\n",
    "3,4,5\n",
    "7,8,9"
   ]
  },
  {
   "cell_type": "code",
   "execution_count": 1,
   "metadata": {},
   "outputs": [],
   "source": [
    "%load_ext autoreload\n",
    "%autoreload 2"
   ]
  },
  {
   "cell_type": "code",
   "execution_count": 2,
   "metadata": {},
   "outputs": [],
   "source": [
    "from datasurfer.lib_ipy import talk, query"
   ]
  },
  {
   "cell_type": "code",
   "execution_count": 8,
   "metadata": {},
   "outputs": [
    {
     "data": {
      "text/markdown": [
       "You're referring to the performance specs of the EATS V2 turbocharger.\n",
       "\n",
       "Here are some key operation points with torque and speeds:\n",
       "\n",
       "* Boost pressure: 1.8-2.5 bar\n",
       "* Max power: 600-800 HP (447-596 kW)\n",
       "* Max torque: 600-800 Nm (443-590 lb-ft)\n",
       "* Max speed: 80,000-100,000 RPM\n",
       "* Compressor wheel diameter: 67mm\n",
       "* Turbine wheel diameter: 76mm\n",
       "\n",
       "Please note that these specs may vary depending on the specific application and installation."
      ],
      "text/plain": [
       "<IPython.core.display.Markdown object>"
      ]
     },
     "metadata": {},
     "output_type": "display_data"
    }
   ],
   "source": [
    "%talk -r \" eats V2 performance operation points with torque and speeds\" "
   ]
  },
  {
   "cell_type": "code",
   "execution_count": 32,
   "metadata": {},
   "outputs": [
    {
     "data": {
      "text/markdown": [
       "According to the data, the average efficiency of 15 OPs in column \"F\" is agreed for V4, and for V4P1, the average efficiency of 10 OPs in column \"KLH\" is agreed, and also the average efficiency of 20 OPs is mentioned with a target of 84.5% average efficiency."
      ],
      "text/plain": [
       "<IPython.core.display.Markdown object>"
      ]
     },
     "metadata": {},
     "output_type": "display_data"
    }
   ],
   "source": [
    "%query \"What is OPs for efficiency of V4p1?\""
   ]
  },
  {
   "cell_type": "code",
   "execution_count": 6,
   "metadata": {},
   "outputs": [
    {
     "data": {
      "text/markdown": [
       "According to the data, Operating Points for V4P1 are mentioned in the following descriptions:\n",
       "\n",
       "* \"1.3.3.2 eATS Operations Points\" (ID: 909)\n",
       "* \"1.3.3.2.0-5 The following efficiency operation points shall be met under the following condition:\" (ID: 649)\n",
       "* \"1.3.3.2.0-3 eATS Operations Points for simulated and measured data shall be provided to the client for any sample phase\" (ID: 616)\n",
       "\n",
       "These descriptions suggest that Operating Points for V4P1 are related to the eATS (Electric Axle Transmission System) and its operations, efficiency, and performance."
      ],
      "text/plain": [
       "<IPython.core.display.Markdown object>"
      ]
     },
     "metadata": {},
     "output_type": "display_data"
    }
   ],
   "source": [
    "%query -r \"What are Operating Points V4P1\" --database \"C:\\30_eATS1p6\\97_Document\\REQ_eATS\" --top 50"
   ]
  },
  {
   "cell_type": "code",
   "execution_count": 11,
   "metadata": {},
   "outputs": [
    {
     "data": {
      "text/markdown": [
       "Based on the provided data, I found the following information related to eATS V4P1 performance operation points with torque and speeds:\n",
       "\n",
       "* ID 1486: \"1.3.3.2.0-6.0-4 V4p1 Efficiency operating points for 60° gear box oil temperatures at worst case conditions\"\n",
       "* ID 1483: \"1.3.3.2.0-6.0-3 Operating Points V4P1... Baseline scenario for efficiency target: - 60° gear box oil temperature, worst case = 84,5% average efficiency over operating points 1 to 20.\"\n",
       "* ID 1344: \"1.3.2.1.1.0-7.1.0-11 The focus of the racestart function is an optimized full acceleration start from stand still to optimize 0-100 kph, 0-200kph and 0-vmax times.\"\n",
       "* ID 1343: \"1.3.2.6.9 Boost & Slow\" (no specific torque and speed values mentioned)\n",
       "\n",
       "Please note that the provided data does not contain explicit torque and speed values for eATS V4P1 performance operation points. However, it mentions efficiency targets, operating points, and performance-related requirements. If you need more specific information, please let me know, and I'll try to help you further."
      ],
      "text/plain": [
       "<IPython.core.display.Markdown object>"
      ]
     },
     "metadata": {},
     "output_type": "display_data"
    }
   ],
   "source": [
    "%query -r \" eats V4p1 performance operation points with torque and speeds\""
   ]
  },
  {
   "cell_type": "code",
   "execution_count": 8,
   "metadata": {},
   "outputs": [
    {
     "data": {
      "text/markdown": [
       "Here's a summary of the information about the NVH cover:\n",
       "\n",
       "**Purpose:** The NVH cover is designed to reduce the noise level of the eATS (structureborne and airborne). (ID: 1096)\n",
       "\n",
       "**Design:**\n",
       "\n",
       "* The NVH cover shall be designed as a spring-mass-system. (ID: 1058)\n",
       "* The design of the NVH cover shall be according to the required minimum distances to the surrounding parts. (ID: 748)\n",
       "* The NVH cover shall respect the requirements of the assembly of the eATS to the vehicle. (ID: 258)\n",
       "* The NVH cover shall respect the requirements of the eATS (i.e. Vents, Service, Certification…). (ID: 324)\n",
       "\n",
       "**Material and Structure:**\n",
       "\n",
       "* The material of the NVH cover shall be according to the material specification NVH_Cover_eATS.docx. (ID: 639)\n",
       "* The thickness of the NVH-Cover shall not exceed 25mm (no benefit on NVH above this value). (ID: 1014)\n",
       "\n",
       "**Attachment:**\n",
       "\n",
       "* The NVH cover shall be attached to the eATS by standard Small-parts (KTO-Catalogue). (ID: 567)\n",
       "\n",
       "**Validation:**\n",
       "\n",
       "* The material and structure of the cover shall be validated to ensure the function of the NVH-cover. (ID: 1244)\n",
       "* The influence of the NVH cover on thermal behavior of the eATS shall be examined by the contractor. (ID: 684)\n",
       "\n",
       "**Other:**\n",
       "\n",
       "* The NVH cover shall be labeled according to MBN10435 and shall have a DMC according to MBN10007. (ID: 5)\n",
       "* The contractor is responsible to design the NVH cover regarding manufacturing requirements. (ID: 603)"
      ],
      "text/plain": [
       "<IPython.core.display.Markdown object>"
      ]
     },
     "metadata": {},
     "output_type": "display_data"
    }
   ],
   "source": [
    "%query \"Information about NVH cover?\""
   ]
  },
  {
   "cell_type": "code",
   "execution_count": 11,
   "metadata": {},
   "outputs": [
    {
     "data": {
      "text/markdown": [
       "Based on the data, here is a summary of the lifetime requirements:\n",
       "\n",
       "* The design of the component shall be based on lifetime-load spectra (ID: 49)\n",
       "* The client will derive lifetime-load spectra and provide classification data (ID: 471)\n",
       "* The contractor shall provide the client with plausible and valid evidence of the changes of loads in the system over lifetime (ID: 760)\n",
       "* The lifetime-load spectra and its classifications have to be jointly endured by the same component (ID: 170)\n",
       "* The output of the LSM shall provide at least lifetime consumption for certain components (ID: 367)\n",
       "* The design spectra contains no provision for aging, or relevant changes in any load during lifetime (ID: 1060)\n",
       "* The contractor shall implement this damage change into the received lifetime load spectra and submit it to the client for approval (ID: 226)\n",
       "* The Lifetime Simulation Model (LSM) shall take into account the Hardware Derating Model (HDM) inputs (ID: 483)\n",
       "\n",
       "Please note that these are just some of the lifetime requirements mentioned in the data, and there may be additional requirements mentioned in other IDs."
      ],
      "text/plain": [
       "<IPython.core.display.Markdown object>"
      ]
     },
     "metadata": {},
     "output_type": "display_data"
    }
   ],
   "source": [
    "%query \"how about lifetime requirement?\" "
   ]
  },
  {
   "cell_type": "code",
   "execution_count": 13,
   "metadata": {},
   "outputs": [
    {
     "data": {
      "text/markdown": [
       "Based on the provided data, here are some of the worst-case scenarios mentioned:\n",
       "\n",
       "1. **Maximum permissible time for the complete coupling process**: 700ms (all variants) for exceptional coupling events, as mentioned in IDs 633, 940, and 1304.\n",
       "2. **Differential speed related to the side shaft**: 10 rpm (exceeding 5 rpm specified in Specific_Content ID 1069725) for V2 and V4, as mentioned in ID 1173.\n",
       "3. **Maximum differential torque related to the side shaft**: 50 Nm (exceeding 30 Nm specified in Specific_Content ID 1069762) for V2 and V4, as mentioned in ID 1173.\n",
       "4. **Connecting time requirement**: exceeded by 50 ms at 0 rpm, 25 ms at 400 rpm, and 20 ms at 800 rpm for V1; 50 ms at 0 rpm, 10 ms at 400 rpm for V2, as mentioned in ID 633.\n",
       "5. **Accuracy**: +/- 3V for battery voltage (clamp 30) signals, as mentioned in ID 1095.\n",
       "6. **NVH and wear**: requirements cannot be fulfilled with respect to NVH and wear, as mentioned in IDs 633, 940, and 1304.\n",
       "\n",
       "Please note that these are just a few examples, and there may be other worst-case scenarios mentioned in the data that are not listed here."
      ],
      "text/plain": [
       "<IPython.core.display.Markdown object>"
      ]
     },
     "metadata": {},
     "output_type": "display_data"
    }
   ],
   "source": [
    "%query \"What are the worse cases?\" -s cloud"
   ]
  },
  {
   "cell_type": "code",
   "execution_count": 14,
   "metadata": {},
   "outputs": [
    {
     "data": {
      "text/markdown": [
       "Based on the data, here are some additional \"worse cases\" that can be inferred:\n",
       "\n",
       "1. **Multiple Faults**: What if multiple faults occur simultaneously, such as a hardware fault and a software fault? How would the system handle this scenario?\n",
       "2. **Faults during HIL Testing**: What if a fault occurs during HIL testing, such as a failure of the HiL system or a software issue? How would the system recover from this?\n",
       "3. **Inadequate Tolerance**: What if the tolerance requirements are not met, leading to a failure of the system? How would the system handle this scenario?\n",
       "4. **CAN and External Watchdog Failures**: What if the CAN and external watchdog systems fail, leading to a loss of control or monitoring of the system? How would the system recover from this?\n",
       "5. **Load Spectrum Issues**: What if the load spectrum provided is inadequate or incorrect, leading to a failure of the system? How would the system handle this scenario?\n",
       "6. **HIL Setup Issues**: What if the HIL setup is not delivered with the correct flashed FBL, code, and data? How would the system handle this scenario?\n",
       "7. **Resetting Faults**: What if the fault is still active after resetting the HW faults? How would the system handle this scenario?\n",
       "8. **Damage Mechanisms**: What if the contractor fails to cover all major damage mechanisms with the spectra, leading to a failure of the system? How would the system handle this scenario?\n",
       "\n",
       "These are just a few examples of potential \"worse cases\" that can be inferred from the data."
      ],
      "text/plain": [
       "<IPython.core.display.Markdown object>"
      ]
     },
     "metadata": {},
     "output_type": "display_data"
    }
   ],
   "source": [
    "%query \"List more worse cases\"\n"
   ]
  },
  {
   "cell_type": "code",
   "execution_count": 30,
   "metadata": {},
   "outputs": [
    {
     "data": {
      "text/markdown": [
       "Bei unzureichenden Toleranzen sollten folgende Schritte unternommen werden:\n",
       "\n",
       "1. **Klärung der Anforderungen**: Stellen Sie sicher, dass die Anforderungen an die Toleranz klar und eindeutig definiert sind.\n",
       "2. **Analyse der Ursachen**: Untersuchen Sie die Ursachen für die unzureichenden Toleranzen, um die Wurzel des Problems zu identifizieren.\n",
       "3. **Anpassung der Toleranzen**: Passen Sie die Toleranzen an, um sicherzustellen, dass sie den Anforderungen entsprechen.\n",
       "4. **Validierung**: Validieren Sie die geänderten Toleranzen, um sicherzustellen, dass sie den Anforderungen entsprechen.\n",
       "5. **Dokumentation**: Dokumentieren Sie die Änderungen an den Toleranzen und die entsprechenden Begründungen.\n",
       "6. **Kommunikation**: Kommunizieren Sie die Änderungen an den Toleranzen an alle beteiligten Parteien, einschließlich des Lieferanten und des Kunden.\n",
       "\n",
       "Es ist wichtig, dass alle Schritte dokumentiert und kommuniziert werden, um sicherzustellen, dass alle Parteien auf dem gleichen Stand sind und dass die Änderungen an den Toleranzen ordnungsgemäß umgesetzt werden."
      ],
      "text/plain": [
       "<IPython.core.display.Markdown object>"
      ]
     },
     "metadata": {},
     "output_type": "display_data"
    }
   ],
   "source": [
    "%query -r \"How to handle Inadequate Tolerance? antwort in German\""
   ]
  },
  {
   "cell_type": "code",
   "execution_count": null,
   "metadata": {},
   "outputs": [],
   "source": []
  }
 ],
 "metadata": {
  "kernelspec": {
   "display_name": "Python 3",
   "language": "python",
   "name": "python3"
  },
  "language_info": {
   "codemirror_mode": {
    "name": "ipython",
    "version": 3
   },
   "file_extension": ".py",
   "mimetype": "text/x-python",
   "name": "python",
   "nbconvert_exporter": "python",
   "pygments_lexer": "ipython3",
   "version": "3.11.0"
  }
 },
 "nbformat": 4,
 "nbformat_minor": 2
}
